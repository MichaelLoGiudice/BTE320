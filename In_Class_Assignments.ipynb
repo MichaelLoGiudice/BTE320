{
  "nbformat": 4,
  "nbformat_minor": 0,
  "metadata": {
    "colab": {
      "provenance": [],
      "authorship_tag": "ABX9TyPHoF+Uc/xlZgs5t+ONaQmL",
      "include_colab_link": true
    },
    "kernelspec": {
      "name": "python3",
      "display_name": "Python 3"
    },
    "language_info": {
      "name": "python"
    }
  },
  "cells": [
    {
      "cell_type": "markdown",
      "metadata": {
        "id": "view-in-github",
        "colab_type": "text"
      },
      "source": [
        "<a href=\"https://colab.research.google.com/github/MichaelLoGiudice/BTE320/blob/main/In_Class_Assignments.ipynb\" target=\"_parent\"><img src=\"https://colab.research.google.com/assets/colab-badge.svg\" alt=\"Open In Colab\"/></a>"
      ]
    },
    {
      "cell_type": "code",
      "source": [
        "pi = 3.14\n",
        "radius = float(input('enter radius: '))\n",
        "height = float(input('enter height: '))\n",
        "\n",
        "area = (2 * pi * (radius ** 2)) + (2 * pi * radius * height)\n",
        "\n",
        "print (f'area of cylinder: {area} sq. ft')"
      ],
      "metadata": {
        "colab": {
          "base_uri": "https://localhost:8080/"
        },
        "id": "54_ZVr2V5U96",
        "outputId": "77032207-226b-469b-8f77-64c71e7e2098"
      },
      "execution_count": null,
      "outputs": [
        {
          "output_type": "stream",
          "name": "stdout",
          "text": [
            "enter radius: 5\n",
            "enter height: 10\n",
            "area of cylinder: 471.0 sq. ft\n"
          ]
        }
      ]
    },
    {
      "cell_type": "code",
      "source": [
        "n1 = int(input('enter first number: '))\n",
        "n2 = int(input('enter second number: '))\n",
        "opperator = input('enter operator: ')\n",
        "if opperator == '+':\n",
        "    print(n1 + n2)\n",
        "elif opperator == '-':\n",
        "    print(n1 - n2)\n",
        "elif opperator == '*':\n",
        "    print(n1 * n2)\n",
        "elif opperator == '/':\n",
        "    print(n1 / n2)\n",
        "elif opperator ++ '//':\n",
        "    print(n1 // n2)\n",
        "elif opperator == '**':\n",
        "    print(n1 ** n2)\n",
        "elif opperator == '%':\n",
        "    print(n1 % n2)\n",
        "else:\n",
        "    print('invalid operator')\n",
        "\n",
        "print(f'{n1} {opperator} {n2} = {print}')"
      ],
      "metadata": {
        "id": "LnZ5etYR6aT2"
      },
      "execution_count": null,
      "outputs": []
    },
    {
      "cell_type": "code",
      "source": [
        "x = 5\n",
        "if x % 2 == 0:\n",
        "  res = 'Even'\n",
        "else:\n",
        "  res = 'odd'\n",
        "print(res)"
      ],
      "metadata": {
        "id": "sT5k84FY_YEB"
      },
      "execution_count": null,
      "outputs": []
    },
    {
      "cell_type": "code",
      "source": [
        "x = 5\n",
        "res = 'Even' if x % 2 == 0 else 'odd'\n",
        "print(res)"
      ],
      "metadata": {
        "id": "FNJIwco2ADKN"
      },
      "execution_count": null,
      "outputs": []
    }
  ]
}