{
  "nbformat": 4,
  "nbformat_minor": 0,
  "metadata": {
    "colab": {
      "provenance": [],
      "authorship_tag": "ABX9TyM93LlNxbm6dBTQi+JXvgfL",
      "include_colab_link": true
    },
    "kernelspec": {
      "name": "python3",
      "display_name": "Python 3"
    },
    "language_info": {
      "name": "python"
    }
  },
  "cells": [
    {
      "cell_type": "markdown",
      "metadata": {
        "id": "view-in-github",
        "colab_type": "text"
      },
      "source": [
        "<a href=\"https://colab.research.google.com/github/MichaelLoGiudice/BTE320/blob/main/In_Class_Assignments.ipynb\" target=\"_parent\"><img src=\"https://colab.research.google.com/assets/colab-badge.svg\" alt=\"Open In Colab\"/></a>"
      ]
    },
    {
      "cell_type": "code",
      "source": [
        "#Cylinder area calculator\n",
        "\n",
        "pi = 3.14\n",
        "radius = float(input('enter radius: '))\n",
        "height = float(input('enter height: '))\n",
        "\n",
        "area = (2 * pi * (radius ** 2)) + (2 * pi * radius * height)\n",
        "\n",
        "print (f'area of cylinder: {area} sq. ft')"
      ],
      "metadata": {
        "colab": {
          "base_uri": "https://localhost:8080/"
        },
        "id": "54_ZVr2V5U96",
        "outputId": "77032207-226b-469b-8f77-64c71e7e2098"
      },
      "execution_count": null,
      "outputs": [
        {
          "output_type": "stream",
          "name": "stdout",
          "text": [
            "enter radius: 5\n",
            "enter height: 10\n",
            "area of cylinder: 471.0 sq. ft\n"
          ]
        }
      ]
    },
    {
      "cell_type": "code",
      "source": [
        "#Numerical calculator\n",
        "\n",
        "n1 = int(input('enter first number: '))\n",
        "n2 = int(input('enter second number: '))\n",
        "opperator = input('enter operator: ')\n",
        "if opperator == '+':\n",
        "    print(n1 + n2)\n",
        "elif opperator == '-':\n",
        "    print(n1 - n2)\n",
        "elif opperator == '*':\n",
        "    print(n1 * n2)\n",
        "elif opperator == '/':\n",
        "    print(n1 / n2)\n",
        "elif opperator ++ '//':\n",
        "    print(n1 // n2)\n",
        "elif opperator == '**':\n",
        "    print(n1 ** n2)\n",
        "elif opperator == '%':\n",
        "    print(n1 % n2)\n",
        "else:\n",
        "    print('invalid operator')\n",
        "\n",
        "print(f'{n1} {opperator} {n2} = {print}')"
      ],
      "metadata": {
        "id": "LnZ5etYR6aT2"
      },
      "execution_count": null,
      "outputs": []
    },
    {
      "cell_type": "code",
      "source": [
        "#Parking garage\n",
        "\n",
        "for numberHours in range(1,9):\n",
        "  fee = 5 + 2.5 * numberHours\n",
        "  if fee < 10:\n",
        "    fee = 10.0\n",
        "  elif fee > 20:\n",
        "    fee = 20.0\n",
        "  print(numberHours, fee)\n"
      ],
      "metadata": {
        "colab": {
          "base_uri": "https://localhost:8080/"
        },
        "id": "7lRwhmgHqI9I",
        "outputId": "bb5268f1-e777-45d9-a190-62d937aa6795"
      },
      "execution_count": null,
      "outputs": [
        {
          "output_type": "stream",
          "name": "stdout",
          "text": [
            "1 10.0\n",
            "2 10.0\n",
            "3 12.5\n",
            "4 15.0\n",
            "5 17.5\n",
            "6 20.0\n",
            "7 20.0\n",
            "8 20.0\n"
          ]
        }
      ]
    },
    {
      "cell_type": "code",
      "source": [
        "#Movie theater, 1\n",
        "\n",
        "for hours in range(1,9,1):\n",
        "  if hours <= 2:\n",
        "    print(hours, 10)\n",
        "  elif hours <=5:\n",
        "    print(hours,hours*2.5+10)\n",
        "  else:\n",
        "    print(hours,20)"
      ],
      "metadata": {
        "colab": {
          "base_uri": "https://localhost:8080/"
        },
        "id": "RumclHvvpOyG",
        "outputId": "fb66d32b-491d-4342-8496-06d7db02bf6b"
      },
      "execution_count": null,
      "outputs": [
        {
          "output_type": "stream",
          "name": "stdout",
          "text": [
            "1 10\n",
            "2 10\n",
            "3 17.5\n",
            "4 20.0\n",
            "5 22.5\n",
            "6 20\n",
            "7 20\n",
            "8 20\n"
          ]
        }
      ]
    },
    {
      "cell_type": "code",
      "source": [
        "#Movie theater, 2\n",
        "\n",
        "import math\n",
        "\n",
        "print('Ad$\\t', 'Profit')\n",
        "for adMoney in range(0,201,25):\n",
        "  revenue = (20 + 2 * round(math.sqrt(adMoney) ** 0.5)) * 10 # instead of adMoney ** 0.5\n",
        "  cost = 200 + adMoney\n",
        "  profit = revenue - cost\n",
        "  print(adMoney, '\\t', profit)"
      ],
      "metadata": {
        "colab": {
          "base_uri": "https://localhost:8080/"
        },
        "id": "nUdVdjZguNyK",
        "outputId": "eb11a4ea-fed3-400b-b8d8-93c1f33e0e1d"
      },
      "execution_count": null,
      "outputs": [
        {
          "output_type": "stream",
          "name": "stdout",
          "text": [
            "Ad$\t Profit\n",
            "0 \t 0\n",
            "25 \t 15\n",
            "50 \t 10\n",
            "75 \t -15\n",
            "100 \t -40\n",
            "125 \t -65\n",
            "150 \t -90\n",
            "175 \t -95\n",
            "200 \t -120\n"
          ]
        }
      ]
    },
    {
      "cell_type": "code",
      "source": [
        "#Rock-Paper-Scissors\n",
        "\n",
        "import random\n",
        "\n",
        "play = input('Do you want to play a game (yes/no): ').capitalize()\n",
        "\n",
        "while play == 'Yes':\n",
        "  p1 = input('player1 - Chose between rock/paper/scissors:').capitalize()\n",
        "  p2 = random.choice(['rock', 'paper', 'scissors']).capitalize()\n",
        "\n",
        "  print(f'player chose{p1}; Computer chose {p2}')\n",
        "\n",
        "  if p1 == p2:\n",
        "     print('Draw')\n",
        "  elif ((p1 == 'rock' and p2 == 'scissors') or\n",
        "        (p1 == 'scissors' and p2 == 'paper') or\n",
        "        (p1 == 'paper' and p2 == 'rock')\n",
        "        ):\n",
        "     print('Player 1 wins!')\n",
        "  else:\n",
        "     print('Player 2 wins!')\n",
        "  play = input('Do you want to play a game (yes/no): ')\n",
        "print('good day...')"
      ],
      "metadata": {
        "colab": {
          "base_uri": "https://localhost:8080/"
        },
        "id": "nGy5Jc6McCQL",
        "outputId": "f84b861d-177b-40dd-cdb0-560ad12ddfb1"
      },
      "execution_count": null,
      "outputs": [
        {
          "output_type": "stream",
          "name": "stdout",
          "text": [
            "Do you want to play a game (yes/no): yes\n",
            "player1 - Chose between rock/paper/scissors:rock\n",
            "player choseRock; Computer chose Scissors\n",
            "Player 2 wins!\n",
            "Do you want to play a game (yes/no): no\n",
            "good day...\n"
          ]
        }
      ]
    },
    {
      "cell_type": "code",
      "source": [
        "#Append items to list iteratively\n",
        "\n",
        "list = []\n",
        "while True:\n",
        "  num = float(input('Give a number: '))\n",
        "\n",
        "  while num != 0.0:\n",
        "    list.append(num)\n",
        "    num = float(input('Give a number: '))\n",
        "list.sort(reverse=True)\n",
        "list"
      ],
      "metadata": {
        "id": "eKZC0yxf6FKJ",
        "colab": {
          "base_uri": "https://localhost:8080/"
        },
        "outputId": "4f22844b-6f1a-481c-e36a-42656d4cc2ec"
      },
      "execution_count": null,
      "outputs": [
        {
          "name": "stdout",
          "output_type": "stream",
          "text": [
            "Give a number: 8\n",
            "Give a number: 8\n",
            "Give a number: 9\n",
            "Give a number: 9\n",
            "Give a number: 0\n",
            "Give a number: 0\n",
            "Give a number: 5\n"
          ]
        }
      ]
    },
    {
      "cell_type": "code",
      "source": [
        "#Dynamic dictionary of number:month pairs\n",
        "\n",
        "months = {}\n",
        "\n",
        "names = [\"Jan\", \"Feb\",\"Mar\", \"Apr\", \"May\", \"Jun\", \"Jul\", \"Aug\",\"Sep\", \"Oct\", \"Nov\",\"Dec\"]\n",
        "\n",
        "numbers = [1,2,3,4,5,6,7,8,9,10,11,12]\n",
        "\n",
        "for num in numbers:\n",
        "\n",
        "  months[num] = names[num - 1]\n",
        "\n",
        "months"
      ],
      "metadata": {
        "colab": {
          "base_uri": "https://localhost:8080/"
        },
        "id": "N1nLAprnnbTg",
        "outputId": "5381298d-0c62-4a16-d4f9-f9cdbafbe3d0"
      },
      "execution_count": null,
      "outputs": [
        {
          "output_type": "execute_result",
          "data": {
            "text/plain": [
              "{1: 'Jan',\n",
              " 2: 'Feb',\n",
              " 3: 'Mar',\n",
              " 4: 'Apr',\n",
              " 5: 'May',\n",
              " 6: 'Jun',\n",
              " 7: 'Jul',\n",
              " 8: 'Aug',\n",
              " 9: 'Sep',\n",
              " 10: 'Oct',\n",
              " 11: 'Nov',\n",
              " 12: 'Dec'}"
            ]
          },
          "metadata": {},
          "execution_count": 2
        }
      ]
    },
    {
      "cell_type": "code",
      "source": [
        "#Dynamic dictionary; 5 distinct key:value pairs\n",
        "\n",
        "counts = {}\n",
        "\n",
        "while len(counts) < 5:\n",
        "\n",
        "  key = input(\"Give a string: \")\n",
        "\n",
        "  if key not in counts:\n",
        "    counts[key] = 1\n",
        "\n",
        "  else:\n",
        "    counts[key] += 1\n",
        "\n",
        "counts"
      ],
      "metadata": {
        "colab": {
          "base_uri": "https://localhost:8080/"
        },
        "id": "yKXnQDp-njiJ",
        "outputId": "cdbbfbe4-2005-46ae-bc5d-0b3f81a2692c"
      },
      "execution_count": null,
      "outputs": [
        {
          "name": "stdout",
          "output_type": "stream",
          "text": [
            "Give a string: uihi9iu\n",
            "Give a string: iugbiu\n",
            "Give a string: uigi''\n",
            "Give a string: ibguibv\n",
            "Give a string: ihjvboiuv'\n"
          ]
        },
        {
          "output_type": "execute_result",
          "data": {
            "text/plain": [
              "{'uihi9iu': 1, 'iugbiu': 1, \"uigi''\": 1, 'ibguibv': 1, \"ihjvboiuv'\": 1}"
            ]
          },
          "metadata": {},
          "execution_count": 1
        }
      ]
    },
    {
      "cell_type": "code",
      "source": [],
      "metadata": {
        "id": "Cle82Pi9HdMJ"
      },
      "execution_count": null,
      "outputs": []
    },
    {
      "cell_type": "code",
      "source": [
        "#Parking garage: calcFee function\n",
        "\n",
        "def calcFee(hours):\n",
        "  fee = 5 + 2.5 * hours\n",
        "  if fee < 10:\n",
        "    fee = 10.0\n",
        "  elif fee >= 20:\n",
        "    fee = 20.0\n",
        "  print(f'Fee: {fee}$')\n",
        "\n",
        "def main():\n",
        "  numHours = int(input('Enter number of hours: '))\n",
        "  fee = calcFee(numHours)\n",
        "\n",
        "main()"
      ],
      "metadata": {
        "colab": {
          "base_uri": "https://localhost:8080/"
        },
        "id": "6U64C8d006hO",
        "outputId": "39455100-e723-4249-962c-1f8430ecf5e2"
      },
      "execution_count": null,
      "outputs": [
        {
          "output_type": "stream",
          "name": "stdout",
          "text": [
            "Enter number of hours: 10\n",
            "Fee: 20.0$\n"
          ]
        }
      ]
    },
    {
      "cell_type": "code",
      "source": [
        "#Recursive function: string reversal\n",
        "\n",
        "def reverse(s):\n",
        "  if len(s) <= 1:\n",
        "    return s\n",
        "  else:\n",
        "    #return s[-1] + reverse(s[:-1])\n",
        "    #return s[-1] + revserse(s[1:-1]) + s[0]\n",
        "    return reverse(s[1:]) + s[0]\n",
        "\n",
        "reverse('Hello')"
      ],
      "metadata": {
        "colab": {
          "base_uri": "https://localhost:8080/",
          "height": 35
        },
        "id": "mHdoA9CYHfwi",
        "outputId": "ecc54069-07b7-45ad-e460-25f6f2268cad"
      },
      "execution_count": null,
      "outputs": [
        {
          "output_type": "execute_result",
          "data": {
            "text/plain": [
              "'olleH'"
            ],
            "application/vnd.google.colaboratory.intrinsic+json": {
              "type": "string"
            }
          },
          "metadata": {},
          "execution_count": 7
        }
      ]
    },
    {
      "cell_type": "code",
      "source": [
        "#Parking garage w/ exception handling\n",
        "\n",
        "def calcFee(hours):\n",
        "\n",
        "  assert hours >= 0, \"The number of hours should be non-negative...\"\n",
        "  fee = 5 + 2.5 * hours\n",
        "  if fee < 10:\n",
        "    fee = 10.0\n",
        "  elif fee > 20:\n",
        "    fee = 20.0\n",
        "\n",
        "  print(f'Fee: {fee}$')\n",
        "def main():\n",
        "  try:\n",
        "\n",
        "    numHours = int(input('Enter number of hours: '))\n",
        "    calcFee(numHours)\n",
        "  except ValueError:\n",
        "\n",
        "    print('Cannot be casted as int()')\n",
        "if __name__ == \"__main__\":\n",
        "  main()"
      ],
      "metadata": {
        "colab": {
          "base_uri": "https://localhost:8080/"
        },
        "id": "vcKxUWb9eGvS",
        "outputId": "8fd3fafd-a3fc-4338-9f62-0c16071555a8"
      },
      "execution_count": null,
      "outputs": [
        {
          "output_type": "stream",
          "name": "stdout",
          "text": [
            "Enter number of hours: 5\n",
            "Fee: 17.5$\n"
          ]
        }
      ]
    },
    {
      "cell_type": "code",
      "source": [
        "#Q1, Assignment II w/ exception handling:\n",
        "def getValues(n):\n",
        "  assert n > 2, \"Size of the list must be greater than 2.\"\n",
        "  L = []\n",
        "  for i in range(n):\n",
        "    weight = float(input('Enter weight: '))\n",
        "    L.append(weight)\n",
        "  return L\n",
        "def calcAverage(alist):\n",
        "  try:\n",
        "    print(f'The average weight is: {sum(alist[2:]) / len(alist[2:])}')\n",
        "  except ZeroDivisionError:\n",
        "    print('List alist is empty or has a length less than 2')\n",
        "  except:\n",
        "    print('Unknown error')\n",
        "if __name__ == \"__main__\":\n",
        "  try:\n",
        "    n = int(input('Enter size of list: '))\n",
        "    alist = getValues(n)\n",
        "    calcAverage(alist)\n",
        "  except ValueError:\n",
        "    print('Cannot casted as int()')\n",
        "\n",
        "  #except:\n",
        "  #  print('Unknown error')"
      ],
      "metadata": {
        "id": "IdHgqcEfenyy"
      },
      "execution_count": null,
      "outputs": []
    },
    {
      "cell_type": "code",
      "source": [
        "#Greeting class\n",
        "\n",
        "class Greeting:\n",
        "  def __init__(self, first, last):\n",
        "    self.first = first\n",
        "    self.last = last\n",
        "\n",
        "  def display(self, formal=False):\n",
        "    if formal:\n",
        "      print(f'Hello, {self.first} {self.last}')\n",
        "    else:\n",
        "      print(f'Hi {self.first}')\n",
        "\n",
        "  def __str__(self):\n",
        "    return str(self.first) + \", \" + str(self.last)\n",
        "    return \"{}, {}\".format(self.first, self.last)\n",
        "    return f'{self.first}, {self.last}'\n",
        "\n",
        "greeting = Greeting('Donald', 'Becker')\n",
        "other_greeting = Greeting('Bob', 'Dylan')\n",
        "greeting.display()\n",
        "\n",
        "print(greeting)\n",
        "print(other_greeting)"
      ],
      "metadata": {
        "colab": {
          "base_uri": "https://localhost:8080/"
        },
        "id": "uv5HeHQQ_Sxk",
        "outputId": "8ff5564a-0ff2-4631-9ee0-971390264bca"
      },
      "execution_count": null,
      "outputs": [
        {
          "output_type": "stream",
          "name": "stdout",
          "text": [
            "Hi Donald\n",
            "Donald, Becker\n",
            "Bob, Dylan\n"
          ]
        }
      ]
    },
    {
      "cell_type": "code",
      "source": [
        "#Student class\n",
        "\n",
        "class Student:\n",
        "  def __init__(self, name, number):\n",
        "    self.name = name\n",
        "    self.__number = number\n",
        "    self.__courses = []\n",
        "\n",
        "  def get_number(self): # getter method for number attribute\n",
        "    return self.__number\n",
        "\n",
        "\n",
        "\n",
        "  def set_number(self, newnumber): # setter method for number attribute\n",
        "    self.__number = newnumber\n",
        "\n",
        "\n",
        "\n",
        "  def enroll(self, course):\n",
        "    if course not in self.__courses:\n",
        "      self.__courses.append(course)\n",
        "    else:\n",
        "      print(f'You have already enrolled in {course}.')\n",
        "\n",
        "  def get_courses(self):\n",
        "    return self.__courses\n",
        "\n",
        "\n",
        "\n",
        "s1 = Student('Bob', 100)\n",
        "s2 = Student('Alice', 101)\n",
        "s1.name, s2.name"
      ],
      "metadata": {
        "id": "diayjX4b_oeK",
        "colab": {
          "base_uri": "https://localhost:8080/"
        },
        "outputId": "2793167c-09ef-41ec-bb2d-1e674b97cf52"
      },
      "execution_count": null,
      "outputs": [
        {
          "output_type": "execute_result",
          "data": {
            "text/plain": [
              "('Bob', 'Alice')"
            ]
          },
          "metadata": {},
          "execution_count": 33
        }
      ]
    },
    {
      "cell_type": "code",
      "source": [
        "#Classes Point and Rectangle\n",
        "import math\n",
        "\n",
        "class Point:\n",
        "  def __init__(self, x, y):\n",
        "    self.x = x\n",
        "    self.y = y\n",
        "\n",
        "  def distance(self, other):\n",
        "    dy = (self.x - other.x) ** 2\n",
        "    dx = (self.y - other.y) ** 2\n",
        "    dist = math.sqrt(dx + dy)\n",
        "    return dist\n",
        "\n",
        "P1 = point(1, 7)\n",
        "P2 = point(3, 4)\n",
        "p1.distance(p2)\n",
        "\n",
        "class Rectangle:\n",
        "    def __init__(self):\n",
        "        self.c1 = Point(0, 0)\n",
        "        self.c2 = Point(0, 2)\n",
        "        self.c3 = Point(2, 0)\n",
        "        self.c4 = Point(2, 2)\n",
        "        self.width = self.calculate_width()\n",
        "        self.length = self.calculate_length()\n",
        "\n",
        "    def calculate_width(self):\n",
        "        return self.c1.distance(self.c3)\n",
        "\n",
        "    def calculate_length(self):\n",
        "        return self.c1.distance(self.c2)\n",
        "\n",
        "    def area(self):\n",
        "        return f'Area = {self.width * self.length} sq.ft'\n",
        "square = Rectangle()\n",
        "square.area()"
      ],
      "metadata": {
        "colab": {
          "base_uri": "https://localhost:8080/",
          "height": 35
        },
        "id": "2t1SnbcHGW9J",
        "outputId": "e6c461de-af4f-4643-843e-b2a40f0fdfe4"
      },
      "execution_count": null,
      "outputs": [
        {
          "output_type": "execute_result",
          "data": {
            "text/plain": [
              "'Area = 4.0 sq.ft'"
            ],
            "application/vnd.google.colaboratory.intrinsic+json": {
              "type": "string"
            }
          },
          "metadata": {},
          "execution_count": 31
        }
      ]
    }
  ]
}