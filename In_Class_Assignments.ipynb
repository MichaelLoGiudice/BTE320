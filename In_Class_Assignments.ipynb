{
  "nbformat": 4,
  "nbformat_minor": 0,
  "metadata": {
    "colab": {
      "provenance": [],
      "authorship_tag": "ABX9TyMf/CyPnZJ/p5WhXnNXHmJx",
      "include_colab_link": true
    },
    "kernelspec": {
      "name": "python3",
      "display_name": "Python 3"
    },
    "language_info": {
      "name": "python"
    }
  },
  "cells": [
    {
      "cell_type": "markdown",
      "metadata": {
        "id": "view-in-github",
        "colab_type": "text"
      },
      "source": [
        "<a href=\"https://colab.research.google.com/github/MichaelLoGiudice/BTE320/blob/main/In_Class_Assignments.ipynb\" target=\"_parent\"><img src=\"https://colab.research.google.com/assets/colab-badge.svg\" alt=\"Open In Colab\"/></a>"
      ]
    },
    {
      "cell_type": "code",
      "source": [
        "pi = 3.14\n",
        "radius = float(input('enter radius: '))\n",
        "height = float(input('enter height: '))\n",
        "\n",
        "area = (2 * pi * (radius ** 2)) + (2 * pi * radius * height)\n",
        "\n",
        "print (f'area of cylinder: {area} sq. ft')"
      ],
      "metadata": {
        "colab": {
          "base_uri": "https://localhost:8080/"
        },
        "id": "54_ZVr2V5U96",
        "outputId": "77032207-226b-469b-8f77-64c71e7e2098"
      },
      "execution_count": null,
      "outputs": [
        {
          "output_type": "stream",
          "name": "stdout",
          "text": [
            "enter radius: 5\n",
            "enter height: 10\n",
            "area of cylinder: 471.0 sq. ft\n"
          ]
        }
      ]
    },
    {
      "cell_type": "code",
      "source": [
        "n1 = int(input('enter first number: '))\n",
        "n2 = int(input('enter second number: '))\n",
        "opperator = input('enter operator: ')\n",
        "if opperator == '+':\n",
        "    print(n1 + n2)\n",
        "elif opperator == '-':\n",
        "    print(n1 - n2)\n",
        "elif opperator == '*':\n",
        "    print(n1 * n2)\n",
        "elif opperator == '/':\n",
        "    print(n1 / n2)\n",
        "elif opperator ++ '//':\n",
        "    print(n1 // n2)\n",
        "elif opperator == '**':\n",
        "    print(n1 ** n2)\n",
        "elif opperator == '%':\n",
        "    print(n1 % n2)\n",
        "else:\n",
        "    print('invalid operator')\n",
        "\n",
        "print(f'{n1} {opperator} {n2} = {print}')"
      ],
      "metadata": {
        "id": "LnZ5etYR6aT2",
        "colab": {
          "base_uri": "https://localhost:8080/",
          "height": 216
        },
        "outputId": "7f61c353-a7f6-4efb-fa38-0971fb1d3e8f"
      },
      "execution_count": null,
      "outputs": [
        {
          "output_type": "error",
          "ename": "TypeError",
          "evalue": "'int' object is not callable",
          "traceback": [
            "\u001b[0;31m---------------------------------------------------------------------------\u001b[0m",
            "\u001b[0;31mTypeError\u001b[0m                                 Traceback (most recent call last)",
            "\u001b[0;32m<ipython-input-79-9026adada64f>\u001b[0m in \u001b[0;36m<cell line: 0>\u001b[0;34m()\u001b[0m\n\u001b[0;32m----> 1\u001b[0;31m \u001b[0mn1\u001b[0m \u001b[0;34m=\u001b[0m \u001b[0mint\u001b[0m\u001b[0;34m(\u001b[0m\u001b[0minput\u001b[0m\u001b[0;34m(\u001b[0m\u001b[0;34m'enter first number: '\u001b[0m\u001b[0;34m)\u001b[0m\u001b[0;34m)\u001b[0m\u001b[0;34m\u001b[0m\u001b[0;34m\u001b[0m\u001b[0m\n\u001b[0m\u001b[1;32m      2\u001b[0m \u001b[0mn2\u001b[0m \u001b[0;34m=\u001b[0m \u001b[0mint\u001b[0m\u001b[0;34m(\u001b[0m\u001b[0minput\u001b[0m\u001b[0;34m(\u001b[0m\u001b[0;34m'enter second number: '\u001b[0m\u001b[0;34m)\u001b[0m\u001b[0;34m)\u001b[0m\u001b[0;34m\u001b[0m\u001b[0;34m\u001b[0m\u001b[0m\n\u001b[1;32m      3\u001b[0m \u001b[0mopperator\u001b[0m \u001b[0;34m=\u001b[0m \u001b[0minput\u001b[0m\u001b[0;34m(\u001b[0m\u001b[0;34m'enter operator: '\u001b[0m\u001b[0;34m)\u001b[0m\u001b[0;34m\u001b[0m\u001b[0;34m\u001b[0m\u001b[0m\n\u001b[1;32m      4\u001b[0m \u001b[0;32mif\u001b[0m \u001b[0mopperator\u001b[0m \u001b[0;34m==\u001b[0m \u001b[0;34m'+'\u001b[0m\u001b[0;34m:\u001b[0m\u001b[0;34m\u001b[0m\u001b[0;34m\u001b[0m\u001b[0m\n\u001b[1;32m      5\u001b[0m     \u001b[0mprint\u001b[0m\u001b[0;34m(\u001b[0m\u001b[0mn1\u001b[0m \u001b[0;34m+\u001b[0m \u001b[0mn2\u001b[0m\u001b[0;34m)\u001b[0m\u001b[0;34m\u001b[0m\u001b[0;34m\u001b[0m\u001b[0m\n",
            "\u001b[0;31mTypeError\u001b[0m: 'int' object is not callable"
          ]
        }
      ]
    },
    {
      "cell_type": "code",
      "source": [
        "for hours in range(1,9,1):\n",
        "  if hours <= 2:\n",
        "    print(hours, 10)\n",
        "  elif hours <=5:\n",
        "    print(hours,hours*2.5+10)\n",
        "  else:\n",
        "    print(hours,20)"
      ],
      "metadata": {
        "colab": {
          "base_uri": "https://localhost:8080/"
        },
        "id": "RumclHvvpOyG",
        "outputId": "fb66d32b-491d-4342-8496-06d7db02bf6b"
      },
      "execution_count": null,
      "outputs": [
        {
          "output_type": "stream",
          "name": "stdout",
          "text": [
            "1 10\n",
            "2 10\n",
            "3 17.5\n",
            "4 20.0\n",
            "5 22.5\n",
            "6 20\n",
            "7 20\n",
            "8 20\n"
          ]
        }
      ]
    },
    {
      "cell_type": "code",
      "source": [
        "for numberHours in range(1,9):\n",
        "  fee = 5 + 2.5 * numberHours\n",
        "  if fee < 10:\n",
        "    fee = 10.0\n",
        "  elif fee > 20:\n",
        "    fee = 20.0\n",
        "  print(numberHours, fee)\n"
      ],
      "metadata": {
        "colab": {
          "base_uri": "https://localhost:8080/"
        },
        "id": "7lRwhmgHqI9I",
        "outputId": "bb5268f1-e777-45d9-a190-62d937aa6795"
      },
      "execution_count": null,
      "outputs": [
        {
          "output_type": "stream",
          "name": "stdout",
          "text": [
            "1 10.0\n",
            "2 10.0\n",
            "3 12.5\n",
            "4 15.0\n",
            "5 17.5\n",
            "6 20.0\n",
            "7 20.0\n",
            "8 20.0\n"
          ]
        }
      ]
    },
    {
      "cell_type": "code",
      "source": [
        "import math\n",
        "\n",
        "print('Ad$\\t', 'Profit')\n",
        "for adMoney in range(0,201,25):\n",
        "  revenue = (20 + 2 * round(math.sqrt(adMoney) ** 0.5)) * 10 # instead of adMoney ** 0.5\n",
        "  cost = 200 + adMoney\n",
        "  profit = revenue - cost\n",
        "  print(adMoney, '\\t', profit)"
      ],
      "metadata": {
        "colab": {
          "base_uri": "https://localhost:8080/"
        },
        "id": "nUdVdjZguNyK",
        "outputId": "eb11a4ea-fed3-400b-b8d8-93c1f33e0e1d"
      },
      "execution_count": null,
      "outputs": [
        {
          "output_type": "stream",
          "name": "stdout",
          "text": [
            "Ad$\t Profit\n",
            "0 \t 0\n",
            "25 \t 15\n",
            "50 \t 10\n",
            "75 \t -15\n",
            "100 \t -40\n",
            "125 \t -65\n",
            "150 \t -90\n",
            "175 \t -95\n",
            "200 \t -120\n"
          ]
        }
      ]
    },
    {
      "cell_type": "code",
      "source": [
        "import random\n",
        "\n",
        "play = input('Do you want to play a game (yes/no): ').capitalize()\n",
        "\n",
        "while play == 'Yes':\n",
        "  p1 = input('player1 - Chose between rock/paper/scissors:').capitalize()\n",
        "  p2 = random.choice(['rock', 'paper', 'scissors']).capitalize()\n",
        "\n",
        "  print(f'player chose{p1}; Computer chose {p2}')\n",
        "\n",
        "  if p1 == p2:\n",
        "     print('Draw')\n",
        "  elif ((p1 == 'rock' and p2 == 'scissors') or\n",
        "        (p1 == 'scissors' and p2 == 'paper') or\n",
        "        (p1 == 'paper' and p2 == 'rock')\n",
        "        ):\n",
        "     print('Player 1 wins!')\n",
        "  else:\n",
        "     print('Player 2 wins!')\n",
        "  play = input('Do you want to play a game (yes/no): ')\n",
        "print('good day...')"
      ],
      "metadata": {
        "colab": {
          "base_uri": "https://localhost:8080/"
        },
        "id": "nGy5Jc6McCQL",
        "outputId": "f84b861d-177b-40dd-cdb0-560ad12ddfb1"
      },
      "execution_count": null,
      "outputs": [
        {
          "output_type": "stream",
          "name": "stdout",
          "text": [
            "Do you want to play a game (yes/no): yes\n",
            "player1 - Chose between rock/paper/scissors:rock\n",
            "player choseRock; Computer chose Scissors\n",
            "Player 2 wins!\n",
            "Do you want to play a game (yes/no): no\n",
            "good day...\n"
          ]
        }
      ]
    },
    {
      "cell_type": "code",
      "source": [
        "list = []\n",
        "while True:\n",
        "  num = float(input('Give a number: '))\n",
        "\n",
        "  while num != 0.0:\n",
        "    list.append(num)\n",
        "    num = float(input('Give a number: '))\n",
        "list.sort(reverse=True)\n",
        "list"
      ],
      "metadata": {
        "id": "eKZC0yxf6FKJ",
        "colab": {
          "base_uri": "https://localhost:8080/"
        },
        "outputId": "4f22844b-6f1a-481c-e36a-42656d4cc2ec"
      },
      "execution_count": null,
      "outputs": [
        {
          "name": "stdout",
          "output_type": "stream",
          "text": [
            "Give a number: 8\n",
            "Give a number: 8\n",
            "Give a number: 9\n",
            "Give a number: 9\n",
            "Give a number: 0\n",
            "Give a number: 0\n",
            "Give a number: 5\n"
          ]
        }
      ]
    },
    {
      "cell_type": "code",
      "source": [
        "months = {}\n",
        "\n",
        "names = [\"Jan\", \"Feb\",\"Mar\", \"Apr\", \"May\", \"Jun\", \"Jul\", \"Aug\",\"Sep\", \"Oct\", \"Nov\",\"Dec\"]\n",
        "\n",
        "numbers = [1,2,3,4,5,6,7,8,9,10,11,12]\n",
        "\n",
        "for num in numbers:\n",
        "\n",
        "  months[num] = names[num - 1]\n",
        "\n",
        "months"
      ],
      "metadata": {
        "colab": {
          "base_uri": "https://localhost:8080/"
        },
        "id": "N1nLAprnnbTg",
        "outputId": "5381298d-0c62-4a16-d4f9-f9cdbafbe3d0"
      },
      "execution_count": 2,
      "outputs": [
        {
          "output_type": "execute_result",
          "data": {
            "text/plain": [
              "{1: 'Jan',\n",
              " 2: 'Feb',\n",
              " 3: 'Mar',\n",
              " 4: 'Apr',\n",
              " 5: 'May',\n",
              " 6: 'Jun',\n",
              " 7: 'Jul',\n",
              " 8: 'Aug',\n",
              " 9: 'Sep',\n",
              " 10: 'Oct',\n",
              " 11: 'Nov',\n",
              " 12: 'Dec'}"
            ]
          },
          "metadata": {},
          "execution_count": 2
        }
      ]
    },
    {
      "cell_type": "code",
      "source": [
        "counts = {}\n",
        "\n",
        "while len(counts) < 5:\n",
        "\n",
        "  key = input(\"Give a string: \")\n",
        "\n",
        "  if key not in counts:\n",
        "    counts[key] = 1\n",
        "\n",
        "  else:\n",
        "    counts[key] += 1\n",
        "\n",
        "counts"
      ],
      "metadata": {
        "colab": {
          "base_uri": "https://localhost:8080/"
        },
        "id": "yKXnQDp-njiJ",
        "outputId": "cdbbfbe4-2005-46ae-bc5d-0b3f81a2692c"
      },
      "execution_count": 1,
      "outputs": [
        {
          "name": "stdout",
          "output_type": "stream",
          "text": [
            "Give a string: uihi9iu\n",
            "Give a string: iugbiu\n",
            "Give a string: uigi''\n",
            "Give a string: ibguibv\n",
            "Give a string: ihjvboiuv'\n"
          ]
        },
        {
          "output_type": "execute_result",
          "data": {
            "text/plain": [
              "{'uihi9iu': 1, 'iugbiu': 1, \"uigi''\": 1, 'ibguibv': 1, \"ihjvboiuv'\": 1}"
            ]
          },
          "metadata": {},
          "execution_count": 1
        }
      ]
    },
    {
      "cell_type": "code",
      "source": [
        "def calcFee(hours):\n",
        "  fee = 5 + 2.5 * hours\n",
        "  if fee < 10:\n",
        "    fee = 10.0\n",
        "  elif fee >= 20:\n",
        "    fee = 20.0\n",
        "  print(f'Fee: {fee}$')\n",
        "\n",
        "def main():\n",
        "  numHours = int(input('Enter number of hours: '))\n",
        "  fee = calcFee(numHours)\n",
        "\n",
        "main()"
      ],
      "metadata": {
        "colab": {
          "base_uri": "https://localhost:8080/"
        },
        "id": "6U64C8d006hO",
        "outputId": "39455100-e723-4249-962c-1f8430ecf5e2"
      },
      "execution_count": null,
      "outputs": [
        {
          "output_type": "stream",
          "name": "stdout",
          "text": [
            "Enter number of hours: 10\n",
            "Fee: 20.0$\n"
          ]
        }
      ]
    }
  ]
}